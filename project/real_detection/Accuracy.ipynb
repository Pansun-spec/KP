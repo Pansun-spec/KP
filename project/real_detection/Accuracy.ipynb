{
 "cells": [
  {
   "cell_type": "code",
   "execution_count": 54,
   "id": "cbfd4564",
   "metadata": {},
   "outputs": [],
   "source": [
    "import numpy as np\n",
    "import cv2\n",
    "import pandas as pd"
   ]
  },
  {
   "cell_type": "code",
   "execution_count": 55,
   "id": "b30ef330",
   "metadata": {
    "scrolled": true
   },
   "outputs": [],
   "source": [
    "y_true = np.loadtxt('holes_locations.txt', delimiter=',')\n",
    "y_pred = np.loadtxt('pred_circles.txt', delimiter=',')"
   ]
  },
  {
   "cell_type": "code",
   "execution_count": 80,
   "id": "2a7237b6",
   "metadata": {},
   "outputs": [],
   "source": [
    "len_y_pred = len(y_pred)\n",
    "len_y_true = len(y_true)\n",
    "num_found_holes = len_y_pred / len_y_true"
   ]
  },
  {
   "cell_type": "code",
   "execution_count": 61,
   "id": "7416a208",
   "metadata": {},
   "outputs": [],
   "source": [
    "y_pred_r = np.zeros(99)\n",
    "for i in range(0, len_y_pred):\n",
    "    list_distance = []\n",
    "    for index in range(0, len_y_true):\n",
    "        distance = np.sqrt(((y_pred[i][0] - y_true[index][0]) ** 2) + ((y_pred[i][1] - y_true[index][1]) ** 2))\n",
    "        list_distance.append(distance)\n",
    "    if min(list_distance) <= 50:  # d<10\n",
    "        if y_pred_r[list_distance.index(min(list_distance))] == 0:\n",
    "            y_pred_r[list_distance.index(min(list_distance))] = y_pred[i][2]\n",
    "        else:\n",
    "            smaller_r = min(y_pred_r[list_distance.index(min(list_distance))], y_pred[i][2])\n",
    "            y_pred_r[list_distance.index(min(list_distance))] = smaller_r\n",
    "            \n",
    "            "
   ]
  },
  {
   "cell_type": "code",
   "execution_count": 75,
   "id": "268efe79",
   "metadata": {},
   "outputs": [
    {
     "data": {
      "text/plain": [
       "array([ 9.,  9.,  9.,  5.,  5.,  3., 10.,  3.,  9.,  5.,  2.,  7.,  7.,\n",
       "        5.,  2.,  5.,  7.,  6.,  2.,  2.,  2., 10.,  7.,  3.,  2., 10.,\n",
       "        2.,  7.,  7.,  2.,  3.,  3.,  2.,  5.,  3.,  3.,  3.,  7.,  2.,\n",
       "        2.,  9.,  9.,  9.,  9.,  6.,  4.,  4., 10.,  9.,  4.,  5., 10.,\n",
       "        7.,  3.,  3.,  3.,  5.,  9.,  7.,  5.,  9.,  3.,  3.,  5.,  7.,\n",
       "        6.,  9.,  4.,  5.,  9.,  4.,  9.,  7.,  9.,  2.,  9.,  2.,  5.,\n",
       "        3.,  3.,  3.,  3.,  3.,  5.,  5.,  6.,  7.,  5., 10.,  7.,  7.,\n",
       "       10.,  9.,  3.,  3.,  9.,  7.,  7.,  2.])"
      ]
     },
     "execution_count": 75,
     "metadata": {},
     "output_type": "execute_result"
    }
   ],
   "source": [
    "y_true_r = []\n",
    "for i in range(0, len_y_true):\n",
    "    y_true_r.append(y_true[i][2])\n",
    "y_true_r = np.array(y_true_r)\n",
    "y_true_r"
   ]
  },
  {
   "cell_type": "code",
   "execution_count": 76,
   "id": "6d8087eb",
   "metadata": {},
   "outputs": [
    {
     "data": {
      "text/plain": [
       "array([10.,  9., 10.,  5.,  6.,  4.,  9.,  4., 10.,  5.,  0.,  8.,  8.,\n",
       "        5.,  2.,  6.,  7.,  8.,  2.,  0.,  0., 10.,  8.,  4.,  3., 10.,\n",
       "        2.,  8.,  8.,  3.,  4.,  5.,  2.,  6.,  3.,  3.,  3.,  7.,  0.,\n",
       "        0.,  9., 10.,  9.,  9.,  8.,  6.,  6.,  8., 10.,  6.,  6.,  9.,\n",
       "        8.,  4.,  4.,  4.,  5., 10.,  8.,  6., 10.,  3.,  3.,  6.,  8.,\n",
       "        7., 10.,  6.,  6., 10.,  6., 10., 10.,  9.,  2., 10.,  0.,  6.,\n",
       "        4.,  4.,  4.,  4.,  5.,  2.,  6.,  8.,  8.,  6.,  9.,  7.,  8.,\n",
       "        6.,  9.,  2.,  2., 10.,  8.,  8.,  3.])"
      ]
     },
     "execution_count": 76,
     "metadata": {},
     "output_type": "execute_result"
    }
   ],
   "source": [
    "y_pred_r"
   ]
  },
  {
   "cell_type": "code",
   "execution_count": 77,
   "id": "bd390bad",
   "metadata": {},
   "outputs": [],
   "source": [
    "from sklearn.metrics import mean_absolute_percentage_error\n",
    "from sklearn.metrics import mean_squared_error"
   ]
  },
  {
   "cell_type": "code",
   "execution_count": 81,
   "id": "5fe601ef",
   "metadata": {},
   "outputs": [
    {
     "data": {
      "text/plain": [
       "0.9494949494949495"
      ]
     },
     "execution_count": 81,
     "metadata": {},
     "output_type": "execute_result"
    }
   ],
   "source": [
    "num_found_holes # How many holes have been found"
   ]
  },
  {
   "cell_type": "code",
   "execution_count": 78,
   "id": "cd8203a1",
   "metadata": {},
   "outputs": [
    {
     "data": {
      "text/plain": [
       "1.5757575757575757"
      ]
     },
     "execution_count": 78,
     "metadata": {},
     "output_type": "execute_result"
    }
   ],
   "source": [
    "mean_squared_error = mean_squared_error(y_true_r, y_pred_r)\n",
    "mean_squared_error"
   ]
  },
  {
   "cell_type": "code",
   "execution_count": 73,
   "id": "7f02ba92",
   "metadata": {},
   "outputs": [
    {
     "data": {
      "text/plain": [
       "0.24050024050024052"
      ]
     },
     "execution_count": 73,
     "metadata": {},
     "output_type": "execute_result"
    }
   ],
   "source": [
    "mean_absolute_percentage_error = mean_absolute_percentage_error(y_true_r, y_pred_r)\n",
    "mean_absolute_percentage_error"
   ]
  }
 ],
 "metadata": {
  "kernelspec": {
   "display_name": "Python 3 (ipykernel)",
   "language": "python",
   "name": "python3"
  },
  "language_info": {
   "codemirror_mode": {
    "name": "ipython",
    "version": 3
   },
   "file_extension": ".py",
   "mimetype": "text/x-python",
   "name": "python",
   "nbconvert_exporter": "python",
   "pygments_lexer": "ipython3",
   "version": "3.10.2"
  }
 },
 "nbformat": 4,
 "nbformat_minor": 5
}
